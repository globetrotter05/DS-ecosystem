{
 "cells": [
  {
   "cell_type": "markdown",
   "id": "8a1629e3",
   "metadata": {},
   "source": [
    "<h1> Data Science Tools and Ecosystem </h1>"
   ]
  },
  {
   "cell_type": "markdown",
   "id": "de304c56",
   "metadata": {},
   "source": [
    "<p>In this notebook, Data Science Tools and Ecosystem are summarized.</p>"
   ]
  },
  {
   "cell_type": "markdown",
   "id": "3e7d7c47",
   "metadata": {},
   "source": [
    "<b>Objectives:</b>\n",
    "<ul>\n",
    "    <li> Understand Data Science Tools</li>\n",
    "    <li> Introduction to Jupyter Notebooks </li>\n",
    "    <li> Tntroducyion to R </li>\n",
    "    <li>describe the GitHub environment</li>\n",
    "    <li> Develop an understanding of APIs   </li>\n",
    "    <li> Describe data sets and sources of data. </li>\n",
    "</ul>"
   ]
  },
  {
   "cell_type": "markdown",
   "id": "2e9f97fb",
   "metadata": {},
   "source": [
    "<p>Some of the popular languages that Data Scientists use are:</p>\n",
    "<ol>\n",
    "    <li> Python  </li>\n",
    "    <li> R </li>\n",
    "    <li> SQL </li>\n",
    "    <li> Julia </li>\n",
    "    <li> Java </li>\n",
    "    <li> Scala </li>\n",
    "</ol>"
   ]
  },
  {
   "cell_type": "markdown",
   "id": "e3df537e",
   "metadata": {},
   "source": [
    "<p>Some of the commonly used libraries used by Data Scientists include </p>\n",
    "<br>\n",
    "<p>In Python</p>\n",
    "<ol>\n",
    "    <li> Pandas </li>\n",
    "    <li> Matplotlib</li>\n",
    "    <li> Seaborn </li>\n",
    "    <li> Scipy </li>\n",
    "</ol>\n",
    "<br>\n",
    "<p>In R</p>\n",
    "<ol>\n",
    "    <li> ggplot </li>\n",
    "    <li> caret </li>\n",
    "    <li> tidyr </li>\n",
    "</ol>\n",
    "<br>\n",
    "<p>In SQL</p>\n",
    "<ol>\n",
    "    <li> PostgreSQL </li>\n",
    "    <li> MySQL </li>\n",
    "    <li> SQLite </li>\n",
    "</ol>"
   ]
  },
  {
   "cell_type": "markdown",
   "id": "be0e91ee",
   "metadata": {},
   "source": [
    "<table border = \"1 \">\n",
    "    <tr>\n",
    "        <th> Data Science Tools </th>\n",
    "    </tr>\n",
    "    <tr>\n",
    "        <th> GitHub </th>\n",
    "    </tr>\n",
    "    <tr>\n",
    "        <th>Jupyter Notebook</th>\n",
    "    </tr>\n",
    "    <tr>\n",
    "        <th>Apache AirFlow</th>\n",
    "    </tr>\n",
    "</table>"
   ]
  },
  {
   "cell_type": "markdown",
   "id": "b90f42b7",
   "metadata": {},
   "source": [
    "<h3> Below are a few examples of evaluating arithmetic expressions in Python </h3>"
   ]
  },
  {
   "cell_type": "code",
   "execution_count": 5,
   "id": "28f9d91b",
   "metadata": {},
   "outputs": [
    {
     "data": {
      "text/plain": [
       "17"
      ]
     },
     "execution_count": 5,
     "metadata": {},
     "output_type": "execute_result"
    }
   ],
   "source": [
    "# This a simple arithmetic expression to mutiply then add integers\n",
    "(3*4)+5"
   ]
  },
  {
   "cell_type": "code",
   "execution_count": 6,
   "id": "534f6dd9",
   "metadata": {},
   "outputs": [
    {
     "name": "stdout",
     "output_type": "stream",
     "text": [
      "3hrs & 20mins \n"
     ]
    }
   ],
   "source": [
    "minutes = 200\n",
    "\n",
    "if minutes >=60:\n",
    "    hours = minutes // 60 #This will convert 200 minutes to hours by diving by 60.\n",
    "    r_minutes = minutes % 60 \n",
    "    print(f\"{hours}hrs & {r_minutes}mins \")"
   ]
  },
  {
   "cell_type": "markdown",
   "id": "31950990",
   "metadata": {},
   "source": [
    "<h2>Author</h2>\n",
    "<p>Tendo Connie Bagonza </p>"
   ]
  },
  {
   "cell_type": "code",
   "execution_count": null,
   "id": "36b3c253",
   "metadata": {},
   "outputs": [],
   "source": [
    "git init\n"
   ]
  },
  {
   "cell_type": "code",
   "execution_count": null,
   "id": "a4745ef8",
   "metadata": {},
   "outputs": [],
   "source": []
  }
 ],
 "metadata": {
  "kernelspec": {
   "display_name": "Python 3 (ipykernel)",
   "language": "python",
   "name": "python3"
  },
  "language_info": {
   "codemirror_mode": {
    "name": "ipython",
    "version": 3
   },
   "file_extension": ".py",
   "mimetype": "text/x-python",
   "name": "python",
   "nbconvert_exporter": "python",
   "pygments_lexer": "ipython3",
   "version": "3.11.5"
  }
 },
 "nbformat": 4,
 "nbformat_minor": 5
}
